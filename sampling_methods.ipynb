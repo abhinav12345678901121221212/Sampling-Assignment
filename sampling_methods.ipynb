{
  "metadata": {
    "kernelspec": {
      "language": "python",
      "display_name": "Python 3",
      "name": "python3"
    },
    "language_info": {
      "name": "python",
      "version": "3.10.12",
      "mimetype": "text/x-python",
      "codemirror_mode": {
        "name": "ipython",
        "version": 3
      },
      "pygments_lexer": "ipython3",
      "nbconvert_exporter": "python",
      "file_extension": ".py"
    },
    "kaggle": {
      "accelerator": "none",
      "dataSources": [
        {
          "sourceId": 7492229,
          "sourceType": "datasetVersion",
          "datasetId": 4362264
        }
      ],
      "dockerImageVersionId": 30635,
      "isInternetEnabled": true,
      "language": "python",
      "sourceType": "notebook",
      "isGpuEnabled": false
    },
    "colab": {
      "provenance": [],
      "include_colab_link": true
    }
  },
  "nbformat_minor": 0,
  "nbformat": 4,
  "cells": [
    {
      "cell_type": "markdown",
      "metadata": {
        "id": "view-in-github",
        "colab_type": "text"
      },
      "source": [
        "<a href=\"https://colab.research.google.com/github/abhinav12345678901121221212/Sampling-Assignment/blob/main/sampling_methods.ipynb\" target=\"_parent\"><img src=\"https://colab.research.google.com/assets/colab-badge.svg\" alt=\"Open In Colab\"/></a>"
      ]
    },
    {
      "cell_type": "markdown",
      "source": [
        "# Imports"
      ],
      "metadata": {
        "id": "b1BK9nDk9xEh"
      }
    },
    {
      "cell_type": "code",
      "source": [
        "import numpy as np\n",
        "import pandas as pd\n",
        "import matplotlib.pyplot as plt\n",
        "import seaborn as sns\n",
        "%matplotlib inline"
      ],
      "metadata": {
        "_uuid": "8f2839f25d086af736a60e9eeb907d3b93b6e0e5",
        "_cell_guid": "b1076dfc-b9ad-4769-8c92-a6c4dae69d19",
        "execution": {
          "iopub.status.busy": "2024-01-28T14:55:09.750614Z",
          "iopub.execute_input": "2024-01-28T14:55:09.753376Z",
          "iopub.status.idle": "2024-01-28T14:55:11.758329Z",
          "shell.execute_reply.started": "2024-01-28T14:55:09.753318Z",
          "shell.execute_reply": "2024-01-28T14:55:11.757184Z"
        },
        "trusted": true,
        "id": "EXrc8HAs9xEj"
      },
      "execution_count": null,
      "outputs": []
    },
    {
      "cell_type": "code",
      "source": [
        "from imblearn.over_sampling import RandomOverSampler\n",
        "from sklearn.model_selection import train_test_split\n",
        "from sklearn.linear_model import LogisticRegression\n",
        "from sklearn.tree import DecisionTreeClassifier\n",
        "from sklearn.ensemble import RandomForestClassifier\n",
        "from sklearn.neighbors import KNeighborsClassifier\n",
        "from sklearn.naive_bayes import GaussianNB\n",
        "from sklearn.preprocessing import MinMaxScaler,StandardScaler\n",
        "from sklearn.metrics import accuracy_score"
      ],
      "metadata": {
        "execution": {
          "iopub.status.busy": "2024-01-28T16:12:53.536707Z",
          "iopub.execute_input": "2024-01-28T16:12:53.53722Z",
          "iopub.status.idle": "2024-01-28T16:12:53.545129Z",
          "shell.execute_reply.started": "2024-01-28T16:12:53.537178Z",
          "shell.execute_reply": "2024-01-28T16:12:53.543726Z"
        },
        "trusted": true,
        "id": "MABQyc2O9xEl"
      },
      "execution_count": null,
      "outputs": []
    },
    {
      "cell_type": "markdown",
      "source": [
        "# Table of Contents\n",
        "1. <a href=\"#1\">Reading the data</a>\n",
        "2. <a href=\"#2\">Checking the class distribution</a>\n",
        "3. <a href=\"#3\">Balancing the dataset</a>\n",
        "4. <a href=\"#4\">Applying different sampling methods</a>\n",
        "    + <a href=\"#5\">Simple random sampling</a>\n",
        "    + <a href=\"#6\">Systematic sampling</a>\n",
        "    + <a href=\"#7\">Stratified sampling</a>\n",
        "    + <a href=\"#8\">Cluster sampling</a>\n",
        "    + <a href=\"#9\">Bootstrap sampling</a>\n",
        "5. <a href=\"#10\">Training on different models</a>    "
      ],
      "metadata": {
        "id": "NPGIBxjU9xEm"
      }
    },
    {
      "cell_type": "markdown",
      "source": [
        "<a id=\"1\"><h1>Reading the data</h1></a>"
      ],
      "metadata": {
        "id": "VFuMWHlh9xEm"
      }
    },
    {
      "cell_type": "code",
      "source": [
        "df= pd.read_csv('/Creditcard_data.csv')"
      ],
      "metadata": {
        "execution": {
          "iopub.status.busy": "2024-01-28T16:05:23.163374Z",
          "iopub.execute_input": "2024-01-28T16:05:23.163782Z",
          "iopub.status.idle": "2024-01-28T16:05:23.201971Z",
          "shell.execute_reply.started": "2024-01-28T16:05:23.16375Z",
          "shell.execute_reply": "2024-01-28T16:05:23.201141Z"
        },
        "trusted": true,
        "id": "EOe7Diw_9xEn"
      },
      "execution_count": null,
      "outputs": []
    },
    {
      "cell_type": "code",
      "source": [
        "df.head()"
      ],
      "metadata": {
        "execution": {
          "iopub.status.busy": "2024-01-28T16:05:23.364217Z",
          "iopub.execute_input": "2024-01-28T16:05:23.364632Z",
          "iopub.status.idle": "2024-01-28T16:05:23.393558Z",
          "shell.execute_reply.started": "2024-01-28T16:05:23.364601Z",
          "shell.execute_reply": "2024-01-28T16:05:23.392231Z"
        },
        "trusted": true,
        "id": "UJ056q0J9xEn"
      },
      "execution_count": null,
      "outputs": []
    },
    {
      "cell_type": "code",
      "source": [
        "df.info()"
      ],
      "metadata": {
        "execution": {
          "iopub.status.busy": "2024-01-28T16:05:23.563067Z",
          "iopub.execute_input": "2024-01-28T16:05:23.563492Z",
          "iopub.status.idle": "2024-01-28T16:05:23.57903Z",
          "shell.execute_reply.started": "2024-01-28T16:05:23.563461Z",
          "shell.execute_reply": "2024-01-28T16:05:23.577929Z"
        },
        "trusted": true,
        "id": "SqOat4xI9xEn"
      },
      "execution_count": null,
      "outputs": []
    },
    {
      "cell_type": "code",
      "source": [
        "df.describe()"
      ],
      "metadata": {
        "execution": {
          "iopub.status.busy": "2024-01-28T16:05:23.781636Z",
          "iopub.execute_input": "2024-01-28T16:05:23.782098Z",
          "iopub.status.idle": "2024-01-28T16:05:23.894245Z",
          "shell.execute_reply.started": "2024-01-28T16:05:23.782063Z",
          "shell.execute_reply": "2024-01-28T16:05:23.893264Z"
        },
        "trusted": true,
        "id": "_W5aU7g_9xEn"
      },
      "execution_count": null,
      "outputs": []
    },
    {
      "cell_type": "markdown",
      "source": [
        "<a id=\"2\"><h1>Checking the Class Distribution</h1></a>"
      ],
      "metadata": {
        "id": "Yg-WMSs_9xEn"
      }
    },
    {
      "cell_type": "code",
      "source": [
        "sns.countplot(data= df, x= 'Class')"
      ],
      "metadata": {
        "execution": {
          "iopub.status.busy": "2024-01-28T16:05:24.168133Z",
          "iopub.execute_input": "2024-01-28T16:05:24.168523Z",
          "iopub.status.idle": "2024-01-28T16:05:24.408405Z",
          "shell.execute_reply.started": "2024-01-28T16:05:24.168494Z",
          "shell.execute_reply": "2024-01-28T16:05:24.406747Z"
        },
        "trusted": true,
        "id": "ZPaZDxkC9xEo"
      },
      "execution_count": null,
      "outputs": []
    },
    {
      "cell_type": "markdown",
      "source": [
        "**It can be clearly observed that the dataset is unbalanced.**"
      ],
      "metadata": {
        "id": "cHz0VV5R9xEo"
      }
    },
    {
      "cell_type": "code",
      "source": [
        "df['Class'].value_counts()"
      ],
      "metadata": {
        "execution": {
          "iopub.status.busy": "2024-01-28T16:05:24.498478Z",
          "iopub.execute_input": "2024-01-28T16:05:24.498861Z",
          "iopub.status.idle": "2024-01-28T16:05:24.508369Z",
          "shell.execute_reply.started": "2024-01-28T16:05:24.49883Z",
          "shell.execute_reply": "2024-01-28T16:05:24.506899Z"
        },
        "trusted": true,
        "id": "PPtcOFp29xEo"
      },
      "execution_count": null,
      "outputs": []
    },
    {
      "cell_type": "markdown",
      "source": [
        "<a id=\"3\"><h1>Balancing the Dataset</h1></a>"
      ],
      "metadata": {
        "id": "QVyMvoHE9xEo"
      }
    },
    {
      "cell_type": "code",
      "source": [
        "X= df.drop('Class',axis=1)\n",
        "y= df['Class']\n",
        "\n",
        "ros= RandomOverSampler(random_state=42)                    # balancing the dataset through oversampling\n",
        "\n",
        "X_resampled, y_resampled= ros.fit_resample(X,y)\n",
        "\n",
        "resampled_df= pd.concat([pd.DataFrame(X_resampled,columns= X.columns), pd.Series(y_resampled,name= 'Class')], axis=1)\n",
        "\n",
        "sns.countplot(data= resampled_df, x= 'Class')"
      ],
      "metadata": {
        "execution": {
          "iopub.status.busy": "2024-01-28T16:05:24.869741Z",
          "iopub.execute_input": "2024-01-28T16:05:24.870169Z",
          "iopub.status.idle": "2024-01-28T16:05:25.140034Z",
          "shell.execute_reply.started": "2024-01-28T16:05:24.870136Z",
          "shell.execute_reply": "2024-01-28T16:05:25.13892Z"
        },
        "trusted": true,
        "id": "ob57bfxF9xEp"
      },
      "execution_count": null,
      "outputs": []
    },
    {
      "cell_type": "code",
      "source": [
        "resampled_df['Class'].value_counts()"
      ],
      "metadata": {
        "execution": {
          "iopub.status.busy": "2024-01-28T16:05:25.142542Z",
          "iopub.execute_input": "2024-01-28T16:05:25.143295Z",
          "iopub.status.idle": "2024-01-28T16:05:25.152761Z",
          "shell.execute_reply.started": "2024-01-28T16:05:25.143251Z",
          "shell.execute_reply": "2024-01-28T16:05:25.151554Z"
        },
        "trusted": true,
        "id": "63b8hp739xEp"
      },
      "execution_count": null,
      "outputs": []
    },
    {
      "cell_type": "markdown",
      "source": [
        "<a id=\"4\"><h1>Applying Different Sampling Methods</h1></a>"
      ],
      "metadata": {
        "id": "EOe5WFoT9xEp"
      }
    },
    {
      "cell_type": "markdown",
      "source": [
        "<a id=\"5\"><h3>Simple Random Sampling</h3>"
      ],
      "metadata": {
        "id": "vPTw82_G9xEp"
      }
    },
    {
      "cell_type": "code",
      "source": [
        "# z score\n",
        "z= 1.96                 # assuming confidence value of 0.95\n",
        "\n",
        "# estimated proportion of the population with the characteristic of interest\n",
        "p= 0.5                  # using proportion of smaller class as estimate, i.e. 763/(763+763)\n",
        "\n",
        "# margin of error\n",
        "E= 0.05                 # 1 - (confidence value)"
      ],
      "metadata": {
        "execution": {
          "iopub.status.busy": "2024-01-28T16:05:25.618036Z",
          "iopub.execute_input": "2024-01-28T16:05:25.618445Z",
          "iopub.status.idle": "2024-01-28T16:05:25.62431Z",
          "shell.execute_reply.started": "2024-01-28T16:05:25.618412Z",
          "shell.execute_reply": "2024-01-28T16:05:25.622693Z"
        },
        "trusted": true,
        "id": "e6V7gK229xEp"
      },
      "execution_count": null,
      "outputs": []
    },
    {
      "cell_type": "code",
      "source": [
        "sample_size= int(np.round((z**2 * p * (1-p)) / (E**2)))\n",
        "sample_size"
      ],
      "metadata": {
        "execution": {
          "iopub.status.busy": "2024-01-28T16:05:25.792084Z",
          "iopub.execute_input": "2024-01-28T16:05:25.792529Z",
          "iopub.status.idle": "2024-01-28T16:05:25.801955Z",
          "shell.execute_reply.started": "2024-01-28T16:05:25.792495Z",
          "shell.execute_reply": "2024-01-28T16:05:25.800463Z"
        },
        "trusted": true,
        "id": "7EJPX2cX9xEq"
      },
      "execution_count": null,
      "outputs": []
    },
    {
      "cell_type": "code",
      "source": [
        "random_sample= resampled_df.sample(n= sample_size, replace= False).reset_index(drop= True)"
      ],
      "metadata": {
        "execution": {
          "iopub.status.busy": "2024-01-28T16:05:25.988849Z",
          "iopub.execute_input": "2024-01-28T16:05:25.989263Z",
          "iopub.status.idle": "2024-01-28T16:05:25.998293Z",
          "shell.execute_reply.started": "2024-01-28T16:05:25.989233Z",
          "shell.execute_reply": "2024-01-28T16:05:25.996815Z"
        },
        "trusted": true,
        "id": "jPEF_Kbr9xEq"
      },
      "execution_count": null,
      "outputs": []
    },
    {
      "cell_type": "code",
      "source": [
        "random_sample.head()"
      ],
      "metadata": {
        "execution": {
          "iopub.status.busy": "2024-01-28T16:05:26.202063Z",
          "iopub.execute_input": "2024-01-28T16:05:26.203615Z",
          "iopub.status.idle": "2024-01-28T16:05:26.231331Z",
          "shell.execute_reply.started": "2024-01-28T16:05:26.203559Z",
          "shell.execute_reply": "2024-01-28T16:05:26.22976Z"
        },
        "trusted": true,
        "id": "4DtGjjP19xEq"
      },
      "execution_count": null,
      "outputs": []
    },
    {
      "cell_type": "markdown",
      "source": [
        "<a id=\"6\"><h3>Systematic Sampling</h3></a>"
      ],
      "metadata": {
        "id": "uLUYFjpc9xEq"
      }
    },
    {
      "cell_type": "code",
      "source": [
        "# no. of elements after which an element is selected\n",
        "k= 5\n",
        "#k= int(np.sqrt(len(resampled_df)))"
      ],
      "metadata": {
        "execution": {
          "iopub.status.busy": "2024-01-28T16:05:26.713456Z",
          "iopub.execute_input": "2024-01-28T16:05:26.713886Z",
          "iopub.status.idle": "2024-01-28T16:05:26.719048Z",
          "shell.execute_reply.started": "2024-01-28T16:05:26.713853Z",
          "shell.execute_reply": "2024-01-28T16:05:26.718143Z"
        },
        "trusted": true,
        "id": "TZMkSFid9xEq"
      },
      "execution_count": null,
      "outputs": []
    },
    {
      "cell_type": "code",
      "source": [
        "sample_size= len(resampled_df)//k\n",
        "sample_size"
      ],
      "metadata": {
        "execution": {
          "iopub.status.busy": "2024-01-28T16:05:26.917877Z",
          "iopub.execute_input": "2024-01-28T16:05:26.92082Z",
          "iopub.status.idle": "2024-01-28T16:05:26.928028Z",
          "shell.execute_reply.started": "2024-01-28T16:05:26.92076Z",
          "shell.execute_reply": "2024-01-28T16:05:26.926772Z"
        },
        "trusted": true,
        "id": "oY5NbUtb9xEr"
      },
      "execution_count": null,
      "outputs": []
    },
    {
      "cell_type": "code",
      "source": [
        "indices= np.arange(0,len(resampled_df),k)[:sample_size]\n",
        "systematic_sample= resampled_df.loc[indices].reset_index(drop= True)"
      ],
      "metadata": {
        "execution": {
          "iopub.status.busy": "2024-01-28T16:05:27.176872Z",
          "iopub.execute_input": "2024-01-28T16:05:27.178053Z",
          "iopub.status.idle": "2024-01-28T16:05:27.187308Z",
          "shell.execute_reply.started": "2024-01-28T16:05:27.178Z",
          "shell.execute_reply": "2024-01-28T16:05:27.186363Z"
        },
        "trusted": true,
        "id": "VSeV8lH99xEr"
      },
      "execution_count": null,
      "outputs": []
    },
    {
      "cell_type": "code",
      "source": [
        "systematic_sample.head()"
      ],
      "metadata": {
        "execution": {
          "iopub.status.busy": "2024-01-28T16:05:27.403623Z",
          "iopub.execute_input": "2024-01-28T16:05:27.404389Z",
          "iopub.status.idle": "2024-01-28T16:05:27.432683Z",
          "shell.execute_reply.started": "2024-01-28T16:05:27.404342Z",
          "shell.execute_reply": "2024-01-28T16:05:27.431846Z"
        },
        "trusted": true,
        "id": "edA0h3kZ9xEr"
      },
      "execution_count": null,
      "outputs": []
    },
    {
      "cell_type": "markdown",
      "source": [
        "<a id=\"7\"><h3>Stratified Sampling</h3></a>"
      ],
      "metadata": {
        "id": "gGnSOkag9xEr"
      }
    },
    {
      "cell_type": "code",
      "source": [
        "# z score\n",
        "z= 1.96                 # assuming confidence value of 0.95\n",
        "\n",
        "# estimated proportion of the population with the characteristic of interest\n",
        "p= 0.5                  # using proportion of smaller class as estimate, i.e. 763/(763+763)\n",
        "\n",
        "# margin of error\n",
        "E= 0.05                 # 1 - (confidence value)\n",
        "\n",
        "# number of strata\n",
        "S= 2                    # no. of classes"
      ],
      "metadata": {
        "execution": {
          "iopub.status.busy": "2024-01-28T16:05:27.860259Z",
          "iopub.execute_input": "2024-01-28T16:05:27.86153Z",
          "iopub.status.idle": "2024-01-28T16:05:27.86788Z",
          "shell.execute_reply.started": "2024-01-28T16:05:27.861489Z",
          "shell.execute_reply": "2024-01-28T16:05:27.866203Z"
        },
        "trusted": true,
        "id": "eHetpvsG9xEr"
      },
      "execution_count": null,
      "outputs": []
    },
    {
      "cell_type": "code",
      "source": [
        "sample_size= int(np.round((z**2 * p * (1-p)) / (E/S)**2))\n",
        "sample_size"
      ],
      "metadata": {
        "execution": {
          "iopub.status.busy": "2024-01-28T16:05:28.095112Z",
          "iopub.execute_input": "2024-01-28T16:05:28.095563Z",
          "iopub.status.idle": "2024-01-28T16:05:28.103424Z",
          "shell.execute_reply.started": "2024-01-28T16:05:28.095528Z",
          "shell.execute_reply": "2024-01-28T16:05:28.102333Z"
        },
        "trusted": true,
        "id": "PIdv2YM39xEs"
      },
      "execution_count": null,
      "outputs": []
    },
    {
      "cell_type": "code",
      "source": [
        "len(resampled_df)"
      ],
      "metadata": {
        "execution": {
          "iopub.status.busy": "2024-01-28T16:05:28.33215Z",
          "iopub.execute_input": "2024-01-28T16:05:28.332566Z",
          "iopub.status.idle": "2024-01-28T16:05:28.340267Z",
          "shell.execute_reply.started": "2024-01-28T16:05:28.332536Z",
          "shell.execute_reply": "2024-01-28T16:05:28.338738Z"
        },
        "trusted": true,
        "id": "InO-LoI99xEs"
      },
      "execution_count": null,
      "outputs": []
    },
    {
      "cell_type": "code",
      "source": [
        "#sample_size*100/len(resampled_df)"
      ],
      "metadata": {
        "execution": {
          "iopub.status.busy": "2024-01-28T16:05:28.584974Z",
          "iopub.execute_input": "2024-01-28T16:05:28.585411Z",
          "iopub.status.idle": "2024-01-28T16:05:28.590855Z",
          "shell.execute_reply.started": "2024-01-28T16:05:28.585378Z",
          "shell.execute_reply": "2024-01-28T16:05:28.589773Z"
        },
        "trusted": true,
        "id": "UCnQfqb69xEs"
      },
      "execution_count": null,
      "outputs": []
    },
    {
      "cell_type": "code",
      "source": [
        "stratified_sample= resampled_df.groupby(by= 'Class', group_keys= False).apply(lambda x: x.sample(n= sample_size//2, replace= True)).reset_index(drop= True)"
      ],
      "metadata": {
        "execution": {
          "iopub.status.busy": "2024-01-28T16:05:29.04061Z",
          "iopub.execute_input": "2024-01-28T16:05:29.041399Z",
          "iopub.status.idle": "2024-01-28T16:05:29.059785Z",
          "shell.execute_reply.started": "2024-01-28T16:05:29.041361Z",
          "shell.execute_reply": "2024-01-28T16:05:29.058889Z"
        },
        "trusted": true,
        "id": "ab6ILZS09xEs"
      },
      "execution_count": null,
      "outputs": []
    },
    {
      "cell_type": "code",
      "source": [
        "stratified_sample.head()"
      ],
      "metadata": {
        "execution": {
          "iopub.status.busy": "2024-01-28T16:05:29.305326Z",
          "iopub.execute_input": "2024-01-28T16:05:29.306242Z",
          "iopub.status.idle": "2024-01-28T16:05:29.335127Z",
          "shell.execute_reply.started": "2024-01-28T16:05:29.306195Z",
          "shell.execute_reply": "2024-01-28T16:05:29.333739Z"
        },
        "trusted": true,
        "id": "ZWuejJTR9xEs"
      },
      "execution_count": null,
      "outputs": []
    },
    {
      "cell_type": "markdown",
      "source": [
        "**We can perform stratified sampling by another simpler approach while also creating a test set on which we will compute the accuracy score of each model.**"
      ],
      "metadata": {
        "id": "c00L95wl9xEt"
      }
    },
    {
      "cell_type": "code",
      "source": [
        "train_stratified_sample, test_stratified_sample= train_test_split(resampled_df, test_size= 0.3, stratify= resampled_df['Class'])"
      ],
      "metadata": {
        "execution": {
          "iopub.status.busy": "2024-01-28T16:05:29.842304Z",
          "iopub.execute_input": "2024-01-28T16:05:29.842775Z",
          "iopub.status.idle": "2024-01-28T16:05:29.853829Z",
          "shell.execute_reply.started": "2024-01-28T16:05:29.84274Z",
          "shell.execute_reply": "2024-01-28T16:05:29.852418Z"
        },
        "trusted": true,
        "id": "4xaCji-q9xEt"
      },
      "execution_count": null,
      "outputs": []
    },
    {
      "cell_type": "code",
      "source": [
        "train_stratified_sample= train_stratified_sample.reset_index(drop= True)\n",
        "test_stratified_sample= test_stratified_sample.reset_index(drop= True)"
      ],
      "metadata": {
        "execution": {
          "iopub.status.busy": "2024-01-28T16:05:30.17138Z",
          "iopub.execute_input": "2024-01-28T16:05:30.171798Z",
          "iopub.status.idle": "2024-01-28T16:05:30.179998Z",
          "shell.execute_reply.started": "2024-01-28T16:05:30.171766Z",
          "shell.execute_reply": "2024-01-28T16:05:30.178673Z"
        },
        "trusted": true,
        "id": "VXA521oS9xEt"
      },
      "execution_count": null,
      "outputs": []
    },
    {
      "cell_type": "code",
      "source": [
        "train_stratified_sample"
      ],
      "metadata": {
        "execution": {
          "iopub.status.busy": "2024-01-28T16:05:30.462371Z",
          "iopub.execute_input": "2024-01-28T16:05:30.46277Z",
          "iopub.status.idle": "2024-01-28T16:05:30.502856Z",
          "shell.execute_reply.started": "2024-01-28T16:05:30.462738Z",
          "shell.execute_reply": "2024-01-28T16:05:30.501516Z"
        },
        "trusted": true,
        "id": "5d3_s4iq9xEt"
      },
      "execution_count": null,
      "outputs": []
    },
    {
      "cell_type": "code",
      "source": [
        "test_stratified_sample"
      ],
      "metadata": {
        "execution": {
          "iopub.status.busy": "2024-01-28T16:05:30.743062Z",
          "iopub.execute_input": "2024-01-28T16:05:30.743451Z",
          "iopub.status.idle": "2024-01-28T16:05:30.778664Z",
          "shell.execute_reply.started": "2024-01-28T16:05:30.743421Z",
          "shell.execute_reply": "2024-01-28T16:05:30.77722Z"
        },
        "trusted": true,
        "id": "48hr5QKd9xEt"
      },
      "execution_count": null,
      "outputs": []
    },
    {
      "cell_type": "code",
      "source": [
        "X_test= test_stratified_sample.drop('Class',axis=1)\n",
        "y_test= test_stratified_sample['Class']"
      ],
      "metadata": {
        "execution": {
          "iopub.status.busy": "2024-01-28T16:05:31.177308Z",
          "iopub.execute_input": "2024-01-28T16:05:31.177762Z",
          "iopub.status.idle": "2024-01-28T16:05:31.184747Z",
          "shell.execute_reply.started": "2024-01-28T16:05:31.177728Z",
          "shell.execute_reply": "2024-01-28T16:05:31.183348Z"
        },
        "trusted": true,
        "id": "kLYpYrnR9xE3"
      },
      "execution_count": null,
      "outputs": []
    },
    {
      "cell_type": "markdown",
      "source": [
        "<a id=\"8\"><h3>Cluster Sampling</h3></a>"
      ],
      "metadata": {
        "id": "5VwulThT9xE3"
      }
    },
    {
      "cell_type": "code",
      "source": [
        "# # z score\n",
        "# z= 1.96                 # assuming confidence value of 0.95\n",
        "\n",
        "# # estimated proportion of the population with the characteristic of interest\n",
        "# p= 0.5                  # using proportion of smaller class as estimate, i.e. 763/(763+763)\n",
        "\n",
        "# # margin of error\n",
        "# E= 0.05                 # 1 - (confidence value)\n",
        "\n",
        "# # average size of clusters\n",
        "# C= 50"
      ],
      "metadata": {
        "execution": {
          "iopub.status.busy": "2024-01-28T16:05:31.987566Z",
          "iopub.execute_input": "2024-01-28T16:05:31.988044Z",
          "iopub.status.idle": "2024-01-28T16:05:31.993488Z",
          "shell.execute_reply.started": "2024-01-28T16:05:31.987998Z",
          "shell.execute_reply": "2024-01-28T16:05:31.992299Z"
        },
        "trusted": true,
        "id": "07lH7LPZ9xE3"
      },
      "execution_count": null,
      "outputs": []
    },
    {
      "cell_type": "code",
      "source": [
        "# sample_size= int(np.round((z**2 * p * (1-p)) / (E/C)**2))\n",
        "# sample_size"
      ],
      "metadata": {
        "execution": {
          "iopub.status.busy": "2024-01-28T16:05:32.252852Z",
          "iopub.execute_input": "2024-01-28T16:05:32.253299Z",
          "iopub.status.idle": "2024-01-28T16:05:32.257944Z",
          "shell.execute_reply.started": "2024-01-28T16:05:32.253266Z",
          "shell.execute_reply": "2024-01-28T16:05:32.256725Z"
        },
        "trusted": true,
        "id": "qDWJmsVy9xE4"
      },
      "execution_count": null,
      "outputs": []
    },
    {
      "cell_type": "code",
      "source": [
        "clusters= [0,1]\n",
        "sample_size= 500\n",
        "cluster_sample= pd.DataFrame()\n",
        "\n",
        "for cluster in clusters:\n",
        "    cluster_df= resampled_df[resampled_df['Class']==cluster]\n",
        "    sample= cluster_df.sample(n= sample_size)\n",
        "    cluster_sample= pd.concat([cluster_sample,sample])"
      ],
      "metadata": {
        "execution": {
          "iopub.status.busy": "2024-01-28T16:05:32.584858Z",
          "iopub.execute_input": "2024-01-28T16:05:32.58527Z",
          "iopub.status.idle": "2024-01-28T16:05:32.602845Z",
          "shell.execute_reply.started": "2024-01-28T16:05:32.58524Z",
          "shell.execute_reply": "2024-01-28T16:05:32.601373Z"
        },
        "trusted": true,
        "id": "2Jc2S2Ov9xE4"
      },
      "execution_count": null,
      "outputs": []
    },
    {
      "cell_type": "code",
      "source": [
        "cluster_sample= cluster_sample.reset_index(drop= True)"
      ],
      "metadata": {
        "execution": {
          "iopub.status.busy": "2024-01-28T16:05:33.077985Z",
          "iopub.execute_input": "2024-01-28T16:05:33.078499Z",
          "iopub.status.idle": "2024-01-28T16:05:33.085062Z",
          "shell.execute_reply.started": "2024-01-28T16:05:33.078459Z",
          "shell.execute_reply": "2024-01-28T16:05:33.084275Z"
        },
        "trusted": true,
        "id": "PCmf8Bv29xE4"
      },
      "execution_count": null,
      "outputs": []
    },
    {
      "cell_type": "code",
      "source": [
        "cluster_sample"
      ],
      "metadata": {
        "execution": {
          "iopub.status.busy": "2024-01-28T16:05:33.356424Z",
          "iopub.execute_input": "2024-01-28T16:05:33.356798Z",
          "iopub.status.idle": "2024-01-28T16:05:33.392876Z",
          "shell.execute_reply.started": "2024-01-28T16:05:33.35677Z",
          "shell.execute_reply": "2024-01-28T16:05:33.391804Z"
        },
        "trusted": true,
        "id": "acPI5lZZ9xE4"
      },
      "execution_count": null,
      "outputs": []
    },
    {
      "cell_type": "markdown",
      "source": [
        "<a id=\"9\"><h3>Bootstrap Sampling</h3></a>"
      ],
      "metadata": {
        "id": "3j5WBBxf9xE4"
      }
    },
    {
      "cell_type": "code",
      "source": [
        "num_bootstrap_samples = 1\n",
        "\n",
        "for _ in range(num_bootstrap_samples):\n",
        "    # Generate a bootstrap sample by sampling with replacement from the resampled dataset\n",
        "    bootstrap_sample = resampled_df.sample(n=len(resampled_df), replace=True)"
      ],
      "metadata": {
        "execution": {
          "iopub.status.busy": "2024-01-28T16:05:34.496278Z",
          "iopub.execute_input": "2024-01-28T16:05:34.496669Z",
          "iopub.status.idle": "2024-01-28T16:05:34.505945Z",
          "shell.execute_reply.started": "2024-01-28T16:05:34.49664Z",
          "shell.execute_reply": "2024-01-28T16:05:34.504334Z"
        },
        "trusted": true,
        "id": "YgI-hIT69xE4"
      },
      "execution_count": null,
      "outputs": []
    },
    {
      "cell_type": "code",
      "source": [
        "bootstrap_sample= bootstrap_sample.reset_index(drop= True)"
      ],
      "metadata": {
        "execution": {
          "iopub.status.busy": "2024-01-28T16:05:34.714143Z",
          "iopub.execute_input": "2024-01-28T16:05:34.714876Z",
          "iopub.status.idle": "2024-01-28T16:05:34.722362Z",
          "shell.execute_reply.started": "2024-01-28T16:05:34.71484Z",
          "shell.execute_reply": "2024-01-28T16:05:34.721068Z"
        },
        "trusted": true,
        "id": "k6Ll3wtJ9xE4"
      },
      "execution_count": null,
      "outputs": []
    },
    {
      "cell_type": "code",
      "source": [
        "bootstrap_sample"
      ],
      "metadata": {
        "execution": {
          "iopub.status.busy": "2024-01-28T16:05:35.026332Z",
          "iopub.execute_input": "2024-01-28T16:05:35.026772Z",
          "iopub.status.idle": "2024-01-28T16:05:35.062127Z",
          "shell.execute_reply.started": "2024-01-28T16:05:35.026739Z",
          "shell.execute_reply": "2024-01-28T16:05:35.06097Z"
        },
        "trusted": true,
        "id": "xIVM7CDU9xE4"
      },
      "execution_count": null,
      "outputs": []
    },
    {
      "cell_type": "markdown",
      "source": [
        "<a id=\"10\"><h1>Training on Different Models</h1></a>"
      ],
      "metadata": {
        "id": "yKa_Kidp9xE4"
      }
    },
    {
      "cell_type": "code",
      "source": [
        "lr_model= LogisticRegression(max_iter= 10000, solver= 'sag')\n",
        "knn_model= KNeighborsClassifier(n_neighbors= 3)\n",
        "rf_model= RandomForestClassifier()\n",
        "dt_model= DecisionTreeClassifier()\n",
        "nb_model= GaussianNB()"
      ],
      "metadata": {
        "execution": {
          "iopub.status.busy": "2024-01-28T16:27:03.024657Z",
          "iopub.execute_input": "2024-01-28T16:27:03.025049Z",
          "iopub.status.idle": "2024-01-28T16:27:03.03125Z",
          "shell.execute_reply.started": "2024-01-28T16:27:03.025017Z",
          "shell.execute_reply": "2024-01-28T16:27:03.030139Z"
        },
        "trusted": true,
        "id": "-K2pbJvw9xE4"
      },
      "execution_count": null,
      "outputs": []
    },
    {
      "cell_type": "code",
      "source": [
        "models= [lr_model,knn_model,rf_model,dt_model,nb_model]\n",
        "model_names= ['Linear Regression','KNN','Random Forest','Decision Tree','Naive Bayes']"
      ],
      "metadata": {
        "execution": {
          "iopub.status.busy": "2024-01-28T16:27:03.275794Z",
          "iopub.execute_input": "2024-01-28T16:27:03.276184Z",
          "iopub.status.idle": "2024-01-28T16:27:03.281922Z",
          "shell.execute_reply.started": "2024-01-28T16:27:03.276154Z",
          "shell.execute_reply": "2024-01-28T16:27:03.280693Z"
        },
        "trusted": true,
        "id": "F4vHwAQL9xE5"
      },
      "execution_count": null,
      "outputs": []
    },
    {
      "cell_type": "code",
      "source": [
        "samples= [random_sample, systematic_sample, train_stratified_sample, cluster_sample, bootstrap_sample]\n",
        "sample_names= ['Simple Random Sample', 'Systematic Sample', 'Stratified Sample', 'Cluster Sample', 'Bootstrap Sample']"
      ],
      "metadata": {
        "execution": {
          "iopub.status.busy": "2024-01-28T16:27:03.524261Z",
          "iopub.execute_input": "2024-01-28T16:27:03.52466Z",
          "iopub.status.idle": "2024-01-28T16:27:03.530909Z",
          "shell.execute_reply.started": "2024-01-28T16:27:03.524629Z",
          "shell.execute_reply": "2024-01-28T16:27:03.529658Z"
        },
        "trusted": true,
        "id": "ZtdGNePi9xE5"
      },
      "execution_count": null,
      "outputs": []
    },
    {
      "cell_type": "code",
      "source": [
        "test_samples= []"
      ],
      "metadata": {
        "execution": {
          "iopub.status.busy": "2024-01-28T16:27:03.756213Z",
          "iopub.execute_input": "2024-01-28T16:27:03.756613Z",
          "iopub.status.idle": "2024-01-28T16:27:03.761376Z",
          "shell.execute_reply.started": "2024-01-28T16:27:03.75658Z",
          "shell.execute_reply": "2024-01-28T16:27:03.760212Z"
        },
        "trusted": true,
        "id": "_x17PQPd9xE5"
      },
      "execution_count": null,
      "outputs": []
    },
    {
      "cell_type": "code",
      "source": [
        "for sample in samples:\n",
        "    scaler= StandardScaler()\n",
        "    X_train= scaler.fit_transform(sample.drop('Class',axis=1))\n",
        "    X_train= pd.DataFrame(X_train, columns= df.columns[:-1])\n",
        "    sample= pd.concat([X_train,sample['Class']],axis=1)\n",
        "    X_test= scaler.fit_transform(X_test)\n",
        "    X_test= pd.DataFrame(X_test, columns= df.columns[:-1])\n",
        "    test_samples.append(X_test)"
      ],
      "metadata": {
        "execution": {
          "iopub.status.busy": "2024-01-28T16:27:04.342295Z",
          "iopub.execute_input": "2024-01-28T16:27:04.342715Z",
          "iopub.status.idle": "2024-01-28T16:27:04.398062Z",
          "shell.execute_reply.started": "2024-01-28T16:27:04.342681Z",
          "shell.execute_reply": "2024-01-28T16:27:04.397178Z"
        },
        "trusted": true,
        "id": "pYCN0urX9xE5"
      },
      "execution_count": null,
      "outputs": []
    },
    {
      "cell_type": "code",
      "source": [
        "accuracy_table= pd.DataFrame(index= model_names, columns= sample_names)\n",
        "\n",
        "for i,model in enumerate(models):\n",
        "    for j,sample in enumerate(samples):\n",
        "        model.fit(sample.drop('Class',axis=1), sample['Class'])\n",
        "        pred= model.predict(test_samples[j])\n",
        "        accuracy_table.loc[model_names[i], sample_names[j]]= accuracy_score(y_test, pred)"
      ],
      "metadata": {
        "execution": {
          "iopub.status.busy": "2024-01-28T16:27:05.293592Z",
          "iopub.execute_input": "2024-01-28T16:27:05.293964Z",
          "iopub.status.idle": "2024-01-28T16:27:26.195911Z",
          "shell.execute_reply.started": "2024-01-28T16:27:05.293934Z",
          "shell.execute_reply": "2024-01-28T16:27:26.194672Z"
        },
        "trusted": true,
        "id": "D0ehF9W79xE5"
      },
      "execution_count": null,
      "outputs": []
    },
    {
      "cell_type": "code",
      "source": [
        "accuracy_table"
      ],
      "metadata": {
        "execution": {
          "iopub.status.busy": "2024-01-28T16:27:26.197721Z",
          "iopub.execute_input": "2024-01-28T16:27:26.198071Z",
          "iopub.status.idle": "2024-01-28T16:27:26.210293Z",
          "shell.execute_reply.started": "2024-01-28T16:27:26.19804Z",
          "shell.execute_reply": "2024-01-28T16:27:26.209304Z"
        },
        "trusted": true,
        "id": "AIOei1UE9xE5"
      },
      "execution_count": null,
      "outputs": []
    },
    {
      "cell_type": "markdown",
      "source": [
        "<h1>Abhinav Maheshwai (102103284)</h1>"
      ],
      "metadata": {
        "id": "qzds-L7d9xE5"
      }
    }
  ]
}